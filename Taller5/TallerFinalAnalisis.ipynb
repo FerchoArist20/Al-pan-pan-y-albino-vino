{
  "nbformat": 4,
  "nbformat_minor": 0,
  "metadata": {
    "colab": {
      "provenance": []
    },
    "kernelspec": {
      "name": "python3",
      "display_name": "Python 3"
    },
    "language_info": {
      "name": "python"
    }
  },
  "cells": [
    {
      "cell_type": "code",
      "execution_count": 35,
      "metadata": {
        "colab": {
          "base_uri": "https://localhost:8080/"
        },
        "id": "w2ztRFmtsCUy",
        "outputId": "e924a739-ab5e-4618-e78f-f58caaa3405f"
      },
      "outputs": [
        {
          "output_type": "stream",
          "name": "stdout",
          "text": [
            "Ingrese un número: 17\n",
            "La suma más larga con números compuestos que da 17 es: [4, 4, 9]\n"
          ]
        }
      ],
      "source": [
        "def es_primo(numero):\n",
        "    if numero < 2:\n",
        "      return False\n",
        "    for i in range(2, int(numero**0.5) + 1):\n",
        "      if numero % i == 0:\n",
        "        return False\n",
        "    return True\n",
        "\n",
        "def numeros_compuestos(n):\n",
        "    max_combinacion = []\n",
        "    def backtrack(actual, combinacion):\n",
        "      nonlocal max_combinacion\n",
        "      if actual == 0:\n",
        "        if len(combinacion) > len(max_combinacion):\n",
        "          max_combinacion = combinacion\n",
        "      elif actual < 0:\n",
        "        return\n",
        "      else:\n",
        "          for i in range(4, actual + 1):\n",
        "              if not es_primo(i):\n",
        "                  backtrack(actual - i, combinacion + [i])\n",
        "    backtrack(n, [])\n",
        "    print(f\"La suma más larga con números compuestos que da {n} es: {max_combinacion}\")\n",
        "n = int(input(\"Ingrese un número: \"))\n",
        "numeros_compuestos(n)"
      ]
    },
    {
      "cell_type": "code",
      "source": [],
      "metadata": {
        "id": "n79N9KcFzFHZ"
      },
      "execution_count": null,
      "outputs": []
    }
  ]
}