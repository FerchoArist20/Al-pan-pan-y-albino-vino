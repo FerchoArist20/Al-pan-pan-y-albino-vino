{
  "nbformat": 4,
  "nbformat_minor": 0,
  "metadata": {
    "colab": {
      "provenance": []
    },
    "kernelspec": {
      "name": "python3",
      "display_name": "Python 3"
    },
    "language_info": {
      "name": "python"
    }
  },
  "cells": [
    {
      "cell_type": "markdown",
      "source": [
        "# **Punto #1**\n",
        "\n",
        "Recorrer una matriz en ZigZag de arriba hacia abajo, y de abajo hacia arriba. **(Con recursion)**"
      ],
      "metadata": {
        "id": "QSmLyPKsHyaC"
      }
    },
    {
      "cell_type": "code",
      "execution_count": null,
      "metadata": {
        "colab": {
          "base_uri": "https://localhost:8080/"
        },
        "id": "MGfkyQkAxZpI",
        "outputId": "98c63e2f-411f-4198-b697-4c8514a57339"
      },
      "outputs": [
        {
          "output_type": "stream",
          "name": "stdout",
          "text": [
            "Ingrese el numero de filas  3\n",
            "Ingrese el numero de columnas  3\n",
            "[7, 9, 2]\n",
            "[7, 6, 2]\n",
            "[8, 0, 2]\n",
            "[7, 7, 8, 0, 6, 9, 2, 2, 2]\n",
            "Se suma #O(nm) + #O(nm)\n",
            "La suma de complejidad de este algoritmo seria: #O(nm)\n"
          ]
        }
      ],
      "source": [
        "#Partiremos este algoritmo en dos para facilitar su suma, primera parte solo la generacion de la matriz y la segunda sera su proceso recursivo \n",
        "import random #O(1)\n",
        "n = int(input(\"Ingrese el numero de filas  \")) #O(1)\n",
        "m = int(input(\"Ingrese el numero de columnas  \")) #O(1)\n",
        "l = [[random.randrange(10) for j in range(n)] for i in range(m)] #0(nm)\n",
        "for i in l: #O(m)\n",
        "  print(i) #O(n)\n",
        "\n",
        "#Hasta este punto su suma es de #O(nm)\n",
        "\n",
        "def matrizZigzag(l, m): #O(1)\n",
        "  if m >= len(l[0]): #O(1)\n",
        "      return [] #O(1)\n",
        "  if m % 2 == 0: #O(1)\n",
        "      return [l[fila][m] for fila in range(len(l))] + matrizZigzag(l, m + 1) #O(n) + #O(matrizZigzag(l, m+1))\n",
        "  else: #O(1)\n",
        "      return [l[fila][m] for fila in range(len(l)-1, -1, -1)] + matrizZigzag(l, m + 1) #O(n) + #O(matrizZigzag(l, m+1))\n",
        "\n",
        "#La segunda parte de este algoritmo lo tomamos desde la funcion recursiva: Hasta este punto la suma es de #O(nm)\n",
        "\n",
        "print(matrizZigzag(l, 0)) #O(nm)\n",
        "print(\"Se suma #O(nm) + #O(nm)\")\n",
        "print(\"La suma de complejidad de este algoritmo seria: #O(nm)\")"
      ]
    },
    {
      "cell_type": "markdown",
      "source": [
        "**Punto #1 sin recursion**\n"
      ],
      "metadata": {
        "id": "KAC56L3aA0xY"
      }
    },
    {
      "cell_type": "code",
      "source": [
        "#Partiremos este algoritmo en dos para facilitar su suma\n",
        "import random #O(1)\n",
        "n = int(input(\"Ingrese el numero de filas  \")) #O(1)\n",
        "m = int(input(\"Ingrese el numero de columnas  \")) #O(1)\n",
        "l = [[random.randrange(10) for j in range(n)] for i in range(m)] #0(nm)\n",
        "for i in l: #O(m)\n",
        "  print(i) #O(n)\n",
        "\n",
        "#Hasta este punto su suma es de #O(nm)\n",
        "\n",
        "posicion=0 #O(1)\n",
        "while posicion < m  : #O(m)\n",
        "  if posicion % 2 == 0: #O(1)\n",
        "    for i in range(len(l)): #O(n) \n",
        "      for j in range(len(l[i])): #O(m)\n",
        "        if posicion == j: #O(1)\n",
        "          print(l[i][j], end =' ') #O(1)\n",
        "    posicion += 1 #O(1)\n",
        "  for i in range(len(l)-1,-1,-1): #O(n)\n",
        "    for j in range(len(l[i])): #O(m)\n",
        "        if posicion == j: #O(1)\n",
        "          print(l[i][j],end =' ') #O(1)\n",
        "  posicion += 1 #O(1)\n",
        "\n",
        "#Hasta este punto su suma es de #O(nm * (m + 3))\n",
        "print(\".\")\n",
        "print(\"Se suma #O(nm) + #O(nm * (m + 3))\")\n",
        "print(\"La suma de complejidad total del algoritmo es de #O(mn^2 + 3)*mn)\")"
      ],
      "metadata": {
        "colab": {
          "base_uri": "https://localhost:8080/"
        },
        "id": "1ZOwzpVtA0Yi",
        "outputId": "5bfe6955-2d74-46a2-9ef9-45bdfe5c0ea7"
      },
      "execution_count": null,
      "outputs": [
        {
          "output_type": "stream",
          "name": "stdout",
          "text": [
            "Ingrese el numero de filas  3\n",
            "Ingrese el numero de columnas  3\n",
            "[8, 7, 9]\n",
            "[1, 7, 2]\n",
            "[5, 7, 6]\n",
            "8 1 5 7 7 7 9 2 6 .\n",
            "Se suma #O(nm) + #O(nm * (m + 3))\n",
            "La suma de complejidad total del algoritmo es de #O(mn^2 + 3)*mn)\n"
          ]
        }
      ]
    },
    {
      "cell_type": "markdown",
      "source": [
        "# **Punto #2**\n",
        "Muestre los indices de las diagonales secundarias comenzando por la posicion [1][1] en forma de ZigZag\n"
      ],
      "metadata": {
        "id": "BPykvgpoA5Fw"
      }
    },
    {
      "cell_type": "code",
      "source": [
        "#Partiremos este algoritmo en dos para facilitar su suma\n",
        "import random #O(1)\n",
        "n = int(input(\"Ingrese el numero de filas  \")) #O(1)\n",
        "m = int(input(\"Ingrese el numero de columnas  \")) #O(1)\n",
        "l = [[random.randrange(10) for j in range(n)] for i in range(m)] #0(nm)\n",
        "for i in l: #O(m)\n",
        "  print(i) #O(n)\n",
        "\n",
        "#Hasta aqui, su complejidad es de #O(nm)\n",
        "\n",
        "sum_max = (n+m)-2 #O(1)\n",
        "posicion =0 #O(1)\n",
        "\n",
        "while posicion <= sum_max: #O(n+m)\n",
        "  if posicion % 2 != 0: #O(nm/2)(peor caso)\n",
        "    for i in range(len(l)): #O(n)\n",
        "      for j in range(len(l[i])): #O(m)\n",
        "        if i+j == posicion: #O(1)\n",
        "          print(l[i][j], end=' ') #O(1)\n",
        "    posicion += 1 #0(1)\n",
        "\n",
        "  for i in range(len(l)-1,-1,-1): #O(n)\n",
        "    for j in range(len(l[i])): #O(m)\n",
        "      if i+j == posicion: #O(1)\n",
        "        print(l[i][j], end=' ') #O(1)\n",
        "  posicion +=1 #O(1)\n",
        "\n",
        "#Hasta aqui, su complejidad es de #O((n+m)^2))\n",
        "print(\".\")\n",
        "print(\"Se suma #O(nm) + #O((n+m)^2)\")\n",
        "print(\"La complejidad total del algoritmo seria: #O(nm + (n+m)^2\")"
      ],
      "metadata": {
        "colab": {
          "base_uri": "https://localhost:8080/"
        },
        "id": "pJNiJxNIA8K5",
        "outputId": "648bf259-db50-42b0-ff37-cd5d3bb09bbb"
      },
      "execution_count": null,
      "outputs": [
        {
          "output_type": "stream",
          "name": "stdout",
          "text": [
            "Ingrese el numero de filas  3\n",
            "Ingrese el numero de columnas  3\n",
            "[5, 5, 8]\n",
            "[6, 7, 4]\n",
            "[5, 1, 6]\n",
            "5 5 6 5 7 8 4 1 6 .\n",
            "Se suma #O(nm) + #O((n+m)^2)\n",
            "La complejidad total del algoritmo seria: #O(nm + (n+m)^2\n"
          ]
        }
      ]
    }
  ]
}