{
  "nbformat": 4,
  "nbformat_minor": 0,
  "metadata": {
    "colab": {
      "provenance": []
    },
    "kernelspec": {
      "name": "python3",
      "display_name": "Python 3"
    },
    "language_info": {
      "name": "python"
    }
  },
  "cells": [
    {
      "cell_type": "code",
      "execution_count": null,
      "metadata": {
        "colab": {
          "base_uri": "https://localhost:8080/"
        },
        "id": "165t27rgpHV0",
        "outputId": "fd1ca4f0-d0ce-4f00-9883-fced10261219"
      },
      "outputs": [
        {
          "output_type": "stream",
          "name": "stdout",
          "text": [
            "[0, 1, 2, 2, 4] \n",
            "[6, 5, 2, 2, 9] \n",
            "[0, 0, 3, 2, 2] \n",
            "[1, 3, 4, 8, 5] \n",
            "[3, 9, 5, 7, 4] \n",
            "89\n"
          ]
        }
      ],
      "source": [
        "import random\n",
        "l = [] #O(1)\n",
        "n = 5  #O(1)\n",
        "m = 5  #O(1)\n",
        "for i in range(n):  #O(5)\n",
        "  l.append([])  #O(1)\n",
        "  for j in range(m): #O(5)\n",
        "    l[i].append(random.randrange(10))  #O(1)\n",
        "\n",
        "for i in l: #O(1)\n",
        "  print(i, end=\" \") #O(0)\n",
        "  print() #O(1)\n",
        "nueva_fila =[]  #O(1)\n",
        "\n",
        "for j in range(m): #O(5)\n",
        "    suma = sum([n[j] for n in l]) #O(25)\n",
        "    nueva_fila.append(suma) #O(1)\n",
        "    \n",
        "cont_total = 0 #O(1)\n",
        "for i in nueva_fila: #O(1)\n",
        "  cont_total = cont_total + i \n",
        "print(cont_total) #O(1)"
      ]
    },
    {
      "cell_type": "code",
      "source": [
        "import random\n",
        "l = [[random.randrange(10) for j in range(5)] for i in range(5)]\n",
        "for i in l:\n",
        "    print(i)\n",
        "cont_total = sum(sum(l, []))\n",
        "print(cont_total)"
      ],
      "metadata": {
        "colab": {
          "base_uri": "https://localhost:8080/"
        },
        "id": "SLK2MqJWbdRb",
        "outputId": "8abc0751-231f-4230-ec6d-a12311dbe448"
      },
      "execution_count": null,
      "outputs": [
        {
          "output_type": "stream",
          "name": "stdout",
          "text": [
            "[7, 3, 2, 5, 0]\n",
            "[8, 5, 7, 9, 3]\n",
            "[6, 0, 4, 4, 6]\n",
            "[9, 0, 6, 3, 2]\n",
            "[4, 6, 9, 8, 8]\n",
            "124\n"
          ]
        }
      ]
    },
    {
      "cell_type": "code",
      "source": [
        "import random #O(1)\n",
        "l = [] #O(1)\n",
        "n = 5  #O(1)\n",
        "m = 5  #O(1)\n",
        "cont= 0 #O(1)\n",
        "for i in range(n):  #O(5)\n",
        "  l.append([])  #O(1)\n",
        "  for j in range(m):  #O(5)\n",
        "    x = random.randrange(10) #O(1)  \n",
        "    l[i].append(x)  #O(1)\n",
        "    cont = x + cont  #O(1)\n",
        "for i in l:  #O(nm)\n",
        "  print(i,\"\\n\")  #O(1)\n",
        "print(\"Su resultado es\",cont, \" y \" \"la suma de la complejidad de este ejercicio es O(nm)\")"
      ],
      "metadata": {
        "id": "n80MGeAFehS9",
        "colab": {
          "base_uri": "https://localhost:8080/"
        },
        "outputId": "1f8e9998-d7e3-4e4c-9f11-792cfa34a22a"
      },
      "execution_count": null,
      "outputs": [
        {
          "output_type": "stream",
          "name": "stdout",
          "text": [
            "[7, 3, 6, 5, 7] \n",
            "\n",
            "[9, 6, 3, 1, 6] \n",
            "\n",
            "[6, 3, 8, 8, 8] \n",
            "\n",
            "[5, 4, 1, 4, 0] \n",
            "\n",
            "[2, 1, 7, 8, 5] \n",
            "\n",
            "Su resultado es 123  y la suma de la complejidad de este ejercicio es O(nm)\n"
          ]
        }
      ]
    }
  ]
}