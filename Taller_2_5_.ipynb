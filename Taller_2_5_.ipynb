{
  "nbformat": 4,
  "nbformat_minor": 0,
  "metadata": {
    "colab": {
      "provenance": []
    },
    "kernelspec": {
      "name": "python3",
      "display_name": "Python 3"
    },
    "language_info": {
      "name": "python"
    }
  },
  "cells": [
    {
      "cell_type": "markdown",
      "source": [
        "Ejercicio 2"
      ],
      "metadata": {
        "id": "GkDJZoOrSyUT"
      }
    },
    {
      "cell_type": "code",
      "execution_count": 9,
      "metadata": {
        "colab": {
          "base_uri": "https://localhost:8080/"
        },
        "id": "twHjSxMUL20A",
        "outputId": "b330ec8b-5872-467f-cf43-6bf778d5e8dc"
      },
      "outputs": [
        {
          "output_type": "stream",
          "name": "stdout",
          "text": [
            "11\n"
          ]
        }
      ],
      "source": [
        "def diferencia_absoluta_minima(A, B):\n",
        "    # Ordenar las matrices en orden ascendente\n",
        "    A_ordenado = sorted(A)\n",
        "    B_ordenado = sorted(B)\n",
        "    \n",
        "    suma_diferencias_absolutas = 0\n",
        "    \n",
        "    for i in range(len(A)):\n",
        "        suma_diferencias_absolutas += abs(A_ordenado[i] - B_ordenado[i])\n",
        "    \n",
        "    return suma_diferencias_absolutas\n",
        "\n",
        "A = [4, 1, 8, 7, 2]\n",
        "B = [3, 10, 6, 9, 5]\n",
        "print(diferencia_absoluta_minima(A, B))  \n",
        "\n"
      ]
    },
    {
      "cell_type": "code",
      "source": [
        "\n"
      ],
      "metadata": {
        "id": "bndNnJLMSFQZ"
      },
      "execution_count": 12,
      "outputs": []
    }
  ]
}